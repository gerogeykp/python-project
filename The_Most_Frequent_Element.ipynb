{
  "nbformat": 4,
  "nbformat_minor": 0,
  "metadata": {
    "colab": {
      "name": "The Most Frequent Element.ipynb",
      "provenance": [],
      "authorship_tag": "ABX9TyMUtsxmodSgoa6u4BlCnp1X",
      "include_colab_link": true
    },
    "kernelspec": {
      "name": "python3",
      "display_name": "Python 3"
    },
    "language_info": {
      "name": "python"
    }
  },
  "cells": [
    {
      "cell_type": "markdown",
      "metadata": {
        "id": "view-in-github",
        "colab_type": "text"
      },
      "source": [
        "<a href=\"https://colab.research.google.com/github/gerogeykp/python-project/blob/main/The_Most_Frequent_Element.ipynb\" target=\"_parent\"><img src=\"https://colab.research.google.com/assets/colab-badge.svg\" alt=\"Open In Colab\"/></a>"
      ]
    },
    {
      "cell_type": "code",
      "metadata": {
        "colab": {
          "base_uri": "https://localhost:8080/"
        },
        "id": "E1r9XkCF668C",
        "outputId": "7dfd885a-9be2-4436-c60a-6f086ef5d3d4"
      },
      "source": [
        "#The Most Frequent Element\n",
        "#Given list\tDesired Output\n",
        "#numbers = [1, 3, 7, 4, 3, 0, 3, 6, 3]\n",
        "#the most frequent number is 3 and it was 4 times repeated\n",
        "\n",
        "numbers = [1, 3, 7, 4, 3, 0, 3, 6, 3]\n",
        "\n",
        "freq_dict = { 1 : numbers.count(1), 3 : numbers.count(3),\n",
        "             0 : numbers.count(0), 4 : numbers.count(4),\n",
        "             6 : numbers.count(6), 7 : numbers.count(7) \n",
        "    }\n",
        "freq_key_list = list(freq_dict.keys())\n",
        "freq_val_list = list(freq_dict.values())  \n",
        "\n",
        "w= max(freq_dict.values())\n",
        "\n",
        "position = freq_val_list.index(w)\n",
        "\n",
        "z = freq_key_list[position]\n",
        "\n",
        "print(freg_dict)\n",
        "\n",
        "print(freq_key_list)\n",
        "print(freq_val_list)\n",
        "print(position)\n",
        "print(\"Our most frequent number is {} and it was {} repeated \".format(z,w))"
      ],
      "execution_count": 10,
      "outputs": [
        {
          "output_type": "stream",
          "text": [
            "{1: 1, 3: 4, 0: 1, 4: 1, 6: 1, 7: 1}\n",
            "[1, 3, 0, 4, 6, 7]\n",
            "[1, 4, 1, 1, 1, 1]\n",
            "1\n",
            "Our most frequent number is 3 and it was 4 repeated \n"
          ],
          "name": "stdout"
        }
      ]
    },
    {
      "cell_type": "code",
      "metadata": {
        "id": "BU0h7lri68f7"
      },
      "source": [
        ""
      ],
      "execution_count": null,
      "outputs": []
    }
  ]
}